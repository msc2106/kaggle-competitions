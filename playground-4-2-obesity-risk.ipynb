{
 "cells": [
  {
   "cell_type": "markdown",
   "id": "f69a9daf",
   "metadata": {
    "papermill": {
     "duration": 0.006387,
     "end_time": "2024-02-17T12:04:40.987670",
     "exception": false,
     "start_time": "2024-02-17T12:04:40.981283",
     "status": "completed"
    },
    "tags": []
   },
   "source": [
    "Multi-Class Prediction of Obesity Risk\n",
    "----\n",
    "\n",
    "www.kaggle.com/competitions/playground-series-s4e2/overview/\n",
    "\n",
    "Results will be evaluated using the accuracy score.\n",
    "\n",
    "This notebook can be run in Colab as well, with automatically generated code to load the linked data."
   ]
  },
  {
   "cell_type": "markdown",
   "id": "44498608",
   "metadata": {
    "papermill": {
     "duration": 0.005444,
     "end_time": "2024-02-17T12:04:40.999250",
     "exception": false,
     "start_time": "2024-02-17T12:04:40.993806",
     "status": "completed"
    },
    "tags": []
   },
   "source": [
    "# Setup"
   ]
  },
  {
   "cell_type": "code",
   "execution_count": 1,
   "id": "d216d541",
   "metadata": {
    "_cell_guid": "b1076dfc-b9ad-4769-8c92-a6c4dae69d19",
    "_uuid": "8f2839f25d086af736a60e9eeb907d3b93b6e0e5",
    "execution": {
     "iopub.execute_input": "2024-02-17T12:04:41.012854Z",
     "iopub.status.busy": "2024-02-17T12:04:41.012420Z",
     "iopub.status.idle": "2024-02-17T12:04:43.502622Z",
     "shell.execute_reply": "2024-02-17T12:04:43.501458Z"
    },
    "papermill": {
     "duration": 2.500544,
     "end_time": "2024-02-17T12:04:43.505578",
     "exception": false,
     "start_time": "2024-02-17T12:04:41.005034",
     "status": "completed"
    },
    "tags": []
   },
   "outputs": [
    {
     "name": "stdout",
     "output_type": "stream",
     "text": [
      "/kaggle/input/playground-series-s4e2/sample_submission.csv\n",
      "/kaggle/input/playground-series-s4e2/train.csv\n",
      "/kaggle/input/playground-series-s4e2/test.csv\n"
     ]
    }
   ],
   "source": [
    "# This Python 3 environment comes with many helpful analytics libraries installed\n",
    "# It is defined by the kaggle/python Docker image: https://github.com/kaggle/docker-python\n",
    "# For example, here's several helpful packages to load\n",
    "\n",
    "import numpy as np # linear algebra\n",
    "import pandas as pd # data processing, CSV file I/O (e.g. pd.read_csv)\n",
    "from itertools import islice\n",
    "import matplotlib as mpl\n",
    "import seaborn as sns\n",
    "\n",
    "# Input data files are available in the read-only \"../input/\" directory\n",
    "# For example, running this (by clicking run or pressing Shift+Enter) will list all files under the input directory\n",
    "\n",
    "import os\n",
    "for dirname, _, filenames in os.walk('/kaggle/input'):\n",
    "    for filename in filenames:\n",
    "        print(os.path.join(dirname, filename))\n",
    "\n",
    "# You can write up to 20GB to the current directory (/kaggle/working/) that gets preserved as output when you create a version using \"Save & Run All\" \n",
    "# You can also write temporary files to /kaggle/temp/, but they won't be saved outside of the current session"
   ]
  },
  {
   "cell_type": "code",
   "execution_count": 2,
   "id": "e9010866",
   "metadata": {
    "execution": {
     "iopub.execute_input": "2024-02-17T12:04:43.519489Z",
     "iopub.status.busy": "2024-02-17T12:04:43.518900Z",
     "iopub.status.idle": "2024-02-17T12:04:43.729141Z",
     "shell.execute_reply": "2024-02-17T12:04:43.727871Z"
    },
    "papermill": {
     "duration": 0.220102,
     "end_time": "2024-02-17T12:04:43.731746",
     "exception": false,
     "start_time": "2024-02-17T12:04:43.511644",
     "status": "completed"
    },
    "tags": []
   },
   "outputs": [
    {
     "name": "stdout",
     "output_type": "stream",
     "text": [
      "Output format:\n",
      "---------------\n",
      "id,NObeyesdad\n",
      "\n",
      "20758,Normal_Weight\n",
      "\n",
      "20759,Normal_Weight\n",
      "\n",
      "20760,Normal_Weight\n",
      "\n",
      "20761,Normal_Weight\n",
      "\n",
      "20762,Normal_Weight\n",
      "\n",
      "20763,Normal_Weight\n",
      "\n",
      "20764,Normal_Weight\n",
      "\n",
      "20765,Normal_Weight\n",
      "\n",
      "20766,Normal_Weight\n",
      "\n"
     ]
    }
   ],
   "source": [
    "train_data = pd.read_csv('/kaggle/input/playground-series-s4e2/train.csv')\n",
    "test_data = pd.read_csv('/kaggle/input/playground-series-s4e2/test.csv')\n",
    "\n",
    "print(\"Output format:\\n---------------\")\n",
    "with open('/kaggle/input/playground-series-s4e2/sample_submission.csv') as f:\n",
    "    for line in islice(f, 10): print(line)\n"
   ]
  },
  {
   "cell_type": "markdown",
   "id": "f2aad107",
   "metadata": {
    "papermill": {
     "duration": 0.00643,
     "end_time": "2024-02-17T12:04:43.744279",
     "exception": false,
     "start_time": "2024-02-17T12:04:43.737849",
     "status": "completed"
    },
    "tags": []
   },
   "source": [
    "# EDA"
   ]
  },
  {
   "cell_type": "code",
   "execution_count": 3,
   "id": "612e511a",
   "metadata": {
    "execution": {
     "iopub.execute_input": "2024-02-17T12:04:43.761014Z",
     "iopub.status.busy": "2024-02-17T12:04:43.758515Z",
     "iopub.status.idle": "2024-02-17T12:04:43.832741Z",
     "shell.execute_reply": "2024-02-17T12:04:43.831574Z"
    },
    "papermill": {
     "duration": 0.085366,
     "end_time": "2024-02-17T12:04:43.835942",
     "exception": false,
     "start_time": "2024-02-17T12:04:43.750576",
     "status": "completed"
    },
    "tags": []
   },
   "outputs": [
    {
     "name": "stdout",
     "output_type": "stream",
     "text": [
      "<class 'pandas.core.frame.DataFrame'>\n",
      "RangeIndex: 20758 entries, 0 to 20757\n",
      "Data columns (total 18 columns):\n",
      " #   Column                          Non-Null Count  Dtype  \n",
      "---  ------                          --------------  -----  \n",
      " 0   id                              20758 non-null  int64  \n",
      " 1   Gender                          20758 non-null  object \n",
      " 2   Age                             20758 non-null  float64\n",
      " 3   Height                          20758 non-null  float64\n",
      " 4   Weight                          20758 non-null  float64\n",
      " 5   family_history_with_overweight  20758 non-null  object \n",
      " 6   FAVC                            20758 non-null  object \n",
      " 7   FCVC                            20758 non-null  float64\n",
      " 8   NCP                             20758 non-null  float64\n",
      " 9   CAEC                            20758 non-null  object \n",
      " 10  SMOKE                           20758 non-null  object \n",
      " 11  CH2O                            20758 non-null  float64\n",
      " 12  SCC                             20758 non-null  object \n",
      " 13  FAF                             20758 non-null  float64\n",
      " 14  TUE                             20758 non-null  float64\n",
      " 15  CALC                            20758 non-null  object \n",
      " 16  MTRANS                          20758 non-null  object \n",
      " 17  NObeyesdad                      20758 non-null  object \n",
      "dtypes: float64(8), int64(1), object(9)\n",
      "memory usage: 2.9+ MB\n",
      "None\n",
      "\n",
      "<class 'pandas.core.frame.DataFrame'>\n",
      "RangeIndex: 13840 entries, 0 to 13839\n",
      "Data columns (total 17 columns):\n",
      " #   Column                          Non-Null Count  Dtype  \n",
      "---  ------                          --------------  -----  \n",
      " 0   id                              13840 non-null  int64  \n",
      " 1   Gender                          13840 non-null  object \n",
      " 2   Age                             13840 non-null  float64\n",
      " 3   Height                          13840 non-null  float64\n",
      " 4   Weight                          13840 non-null  float64\n",
      " 5   family_history_with_overweight  13840 non-null  object \n",
      " 6   FAVC                            13840 non-null  object \n",
      " 7   FCVC                            13840 non-null  float64\n",
      " 8   NCP                             13840 non-null  float64\n",
      " 9   CAEC                            13840 non-null  object \n",
      " 10  SMOKE                           13840 non-null  object \n",
      " 11  CH2O                            13840 non-null  float64\n",
      " 12  SCC                             13840 non-null  object \n",
      " 13  FAF                             13840 non-null  float64\n",
      " 14  TUE                             13840 non-null  float64\n",
      " 15  CALC                            13840 non-null  object \n",
      " 16  MTRANS                          13840 non-null  object \n",
      "dtypes: float64(8), int64(1), object(8)\n",
      "memory usage: 1.8+ MB\n",
      "None\n"
     ]
    }
   ],
   "source": [
    "print(train_data.info())\n",
    "print()\n",
    "print(test_data.info())"
   ]
  },
  {
   "cell_type": "code",
   "execution_count": 4,
   "id": "91ab092d",
   "metadata": {
    "execution": {
     "iopub.execute_input": "2024-02-17T12:04:43.851348Z",
     "iopub.status.busy": "2024-02-17T12:04:43.850863Z",
     "iopub.status.idle": "2024-02-17T12:04:43.862296Z",
     "shell.execute_reply": "2024-02-17T12:04:43.861355Z"
    },
    "papermill": {
     "duration": 0.022547,
     "end_time": "2024-02-17T12:04:43.864818",
     "exception": false,
     "start_time": "2024-02-17T12:04:43.842271",
     "status": "completed"
    },
    "tags": []
   },
   "outputs": [],
   "source": [
    "eda_data = pd.concat([train_data, test_data])"
   ]
  },
  {
   "cell_type": "code",
   "execution_count": 5,
   "id": "e73d10f0",
   "metadata": {
    "execution": {
     "iopub.execute_input": "2024-02-17T12:04:43.879195Z",
     "iopub.status.busy": "2024-02-17T12:04:43.878746Z",
     "iopub.status.idle": "2024-02-17T12:04:43.899095Z",
     "shell.execute_reply": "2024-02-17T12:04:43.897889Z"
    },
    "papermill": {
     "duration": 0.030866,
     "end_time": "2024-02-17T12:04:43.902083",
     "exception": false,
     "start_time": "2024-02-17T12:04:43.871217",
     "status": "completed"
    },
    "tags": []
   },
   "outputs": [
    {
     "data": {
      "text/html": [
       "<div>\n",
       "<style scoped>\n",
       "    .dataframe tbody tr th:only-of-type {\n",
       "        vertical-align: middle;\n",
       "    }\n",
       "\n",
       "    .dataframe tbody tr th {\n",
       "        vertical-align: top;\n",
       "    }\n",
       "\n",
       "    .dataframe thead th {\n",
       "        text-align: right;\n",
       "    }\n",
       "</style>\n",
       "<table border=\"1\" class=\"dataframe\">\n",
       "  <thead>\n",
       "    <tr style=\"text-align: right;\">\n",
       "      <th></th>\n",
       "      <th>0</th>\n",
       "      <th>1</th>\n",
       "      <th>2</th>\n",
       "      <th>3</th>\n",
       "      <th>4</th>\n",
       "    </tr>\n",
       "  </thead>\n",
       "  <tbody>\n",
       "    <tr>\n",
       "      <th>id</th>\n",
       "      <td>0</td>\n",
       "      <td>1</td>\n",
       "      <td>2</td>\n",
       "      <td>3</td>\n",
       "      <td>4</td>\n",
       "    </tr>\n",
       "    <tr>\n",
       "      <th>Gender</th>\n",
       "      <td>Male</td>\n",
       "      <td>Female</td>\n",
       "      <td>Female</td>\n",
       "      <td>Female</td>\n",
       "      <td>Male</td>\n",
       "    </tr>\n",
       "    <tr>\n",
       "      <th>Age</th>\n",
       "      <td>24.443011</td>\n",
       "      <td>18.0</td>\n",
       "      <td>18.0</td>\n",
       "      <td>20.952737</td>\n",
       "      <td>31.641081</td>\n",
       "    </tr>\n",
       "    <tr>\n",
       "      <th>Height</th>\n",
       "      <td>1.699998</td>\n",
       "      <td>1.56</td>\n",
       "      <td>1.71146</td>\n",
       "      <td>1.71073</td>\n",
       "      <td>1.914186</td>\n",
       "    </tr>\n",
       "    <tr>\n",
       "      <th>Weight</th>\n",
       "      <td>81.66995</td>\n",
       "      <td>57.0</td>\n",
       "      <td>50.165754</td>\n",
       "      <td>131.274851</td>\n",
       "      <td>93.798055</td>\n",
       "    </tr>\n",
       "    <tr>\n",
       "      <th>family_history_with_overweight</th>\n",
       "      <td>yes</td>\n",
       "      <td>yes</td>\n",
       "      <td>yes</td>\n",
       "      <td>yes</td>\n",
       "      <td>yes</td>\n",
       "    </tr>\n",
       "    <tr>\n",
       "      <th>FAVC</th>\n",
       "      <td>yes</td>\n",
       "      <td>yes</td>\n",
       "      <td>yes</td>\n",
       "      <td>yes</td>\n",
       "      <td>yes</td>\n",
       "    </tr>\n",
       "    <tr>\n",
       "      <th>FCVC</th>\n",
       "      <td>2.0</td>\n",
       "      <td>2.0</td>\n",
       "      <td>1.880534</td>\n",
       "      <td>3.0</td>\n",
       "      <td>2.679664</td>\n",
       "    </tr>\n",
       "    <tr>\n",
       "      <th>NCP</th>\n",
       "      <td>2.983297</td>\n",
       "      <td>3.0</td>\n",
       "      <td>1.411685</td>\n",
       "      <td>3.0</td>\n",
       "      <td>1.971472</td>\n",
       "    </tr>\n",
       "    <tr>\n",
       "      <th>CAEC</th>\n",
       "      <td>Sometimes</td>\n",
       "      <td>Frequently</td>\n",
       "      <td>Sometimes</td>\n",
       "      <td>Sometimes</td>\n",
       "      <td>Sometimes</td>\n",
       "    </tr>\n",
       "    <tr>\n",
       "      <th>SMOKE</th>\n",
       "      <td>no</td>\n",
       "      <td>no</td>\n",
       "      <td>no</td>\n",
       "      <td>no</td>\n",
       "      <td>no</td>\n",
       "    </tr>\n",
       "    <tr>\n",
       "      <th>CH2O</th>\n",
       "      <td>2.763573</td>\n",
       "      <td>2.0</td>\n",
       "      <td>1.910378</td>\n",
       "      <td>1.674061</td>\n",
       "      <td>1.979848</td>\n",
       "    </tr>\n",
       "    <tr>\n",
       "      <th>SCC</th>\n",
       "      <td>no</td>\n",
       "      <td>no</td>\n",
       "      <td>no</td>\n",
       "      <td>no</td>\n",
       "      <td>no</td>\n",
       "    </tr>\n",
       "    <tr>\n",
       "      <th>FAF</th>\n",
       "      <td>0.0</td>\n",
       "      <td>1.0</td>\n",
       "      <td>0.866045</td>\n",
       "      <td>1.467863</td>\n",
       "      <td>1.967973</td>\n",
       "    </tr>\n",
       "    <tr>\n",
       "      <th>TUE</th>\n",
       "      <td>0.976473</td>\n",
       "      <td>1.0</td>\n",
       "      <td>1.673584</td>\n",
       "      <td>0.780199</td>\n",
       "      <td>0.931721</td>\n",
       "    </tr>\n",
       "    <tr>\n",
       "      <th>CALC</th>\n",
       "      <td>Sometimes</td>\n",
       "      <td>no</td>\n",
       "      <td>no</td>\n",
       "      <td>Sometimes</td>\n",
       "      <td>Sometimes</td>\n",
       "    </tr>\n",
       "    <tr>\n",
       "      <th>MTRANS</th>\n",
       "      <td>Public_Transportation</td>\n",
       "      <td>Automobile</td>\n",
       "      <td>Public_Transportation</td>\n",
       "      <td>Public_Transportation</td>\n",
       "      <td>Public_Transportation</td>\n",
       "    </tr>\n",
       "    <tr>\n",
       "      <th>NObeyesdad</th>\n",
       "      <td>Overweight_Level_II</td>\n",
       "      <td>Normal_Weight</td>\n",
       "      <td>Insufficient_Weight</td>\n",
       "      <td>Obesity_Type_III</td>\n",
       "      <td>Overweight_Level_II</td>\n",
       "    </tr>\n",
       "  </tbody>\n",
       "</table>\n",
       "</div>"
      ],
      "text/plain": [
       "                                                    0              1  \\\n",
       "id                                                  0              1   \n",
       "Gender                                           Male         Female   \n",
       "Age                                         24.443011           18.0   \n",
       "Height                                       1.699998           1.56   \n",
       "Weight                                       81.66995           57.0   \n",
       "family_history_with_overweight                    yes            yes   \n",
       "FAVC                                              yes            yes   \n",
       "FCVC                                              2.0            2.0   \n",
       "NCP                                          2.983297            3.0   \n",
       "CAEC                                        Sometimes     Frequently   \n",
       "SMOKE                                              no             no   \n",
       "CH2O                                         2.763573            2.0   \n",
       "SCC                                                no             no   \n",
       "FAF                                               0.0            1.0   \n",
       "TUE                                          0.976473            1.0   \n",
       "CALC                                        Sometimes             no   \n",
       "MTRANS                          Public_Transportation     Automobile   \n",
       "NObeyesdad                        Overweight_Level_II  Normal_Weight   \n",
       "\n",
       "                                                    2                      3  \\\n",
       "id                                                  2                      3   \n",
       "Gender                                         Female                 Female   \n",
       "Age                                              18.0              20.952737   \n",
       "Height                                        1.71146                1.71073   \n",
       "Weight                                      50.165754             131.274851   \n",
       "family_history_with_overweight                    yes                    yes   \n",
       "FAVC                                              yes                    yes   \n",
       "FCVC                                         1.880534                    3.0   \n",
       "NCP                                          1.411685                    3.0   \n",
       "CAEC                                        Sometimes              Sometimes   \n",
       "SMOKE                                              no                     no   \n",
       "CH2O                                         1.910378               1.674061   \n",
       "SCC                                                no                     no   \n",
       "FAF                                          0.866045               1.467863   \n",
       "TUE                                          1.673584               0.780199   \n",
       "CALC                                               no              Sometimes   \n",
       "MTRANS                          Public_Transportation  Public_Transportation   \n",
       "NObeyesdad                        Insufficient_Weight       Obesity_Type_III   \n",
       "\n",
       "                                                    4  \n",
       "id                                                  4  \n",
       "Gender                                           Male  \n",
       "Age                                         31.641081  \n",
       "Height                                       1.914186  \n",
       "Weight                                      93.798055  \n",
       "family_history_with_overweight                    yes  \n",
       "FAVC                                              yes  \n",
       "FCVC                                         2.679664  \n",
       "NCP                                          1.971472  \n",
       "CAEC                                        Sometimes  \n",
       "SMOKE                                              no  \n",
       "CH2O                                         1.979848  \n",
       "SCC                                                no  \n",
       "FAF                                          1.967973  \n",
       "TUE                                          0.931721  \n",
       "CALC                                        Sometimes  \n",
       "MTRANS                          Public_Transportation  \n",
       "NObeyesdad                        Overweight_Level_II  "
      ]
     },
     "execution_count": 5,
     "metadata": {},
     "output_type": "execute_result"
    }
   ],
   "source": [
    "eda_data.head().T"
   ]
  },
  {
   "cell_type": "markdown",
   "id": "c63d9794",
   "metadata": {
    "papermill": {
     "duration": 0.006348,
     "end_time": "2024-02-17T12:04:43.915341",
     "exception": false,
     "start_time": "2024-02-17T12:04:43.908993",
     "status": "completed"
    },
    "tags": []
   },
   "source": [
    "## Continous measures"
   ]
  },
  {
   "cell_type": "code",
   "execution_count": 6,
   "id": "4e26fc65",
   "metadata": {
    "execution": {
     "iopub.execute_input": "2024-02-17T12:04:43.930862Z",
     "iopub.status.busy": "2024-02-17T12:04:43.930069Z",
     "iopub.status.idle": "2024-02-17T12:04:44.004771Z",
     "shell.execute_reply": "2024-02-17T12:04:44.003426Z"
    },
    "papermill": {
     "duration": 0.085672,
     "end_time": "2024-02-17T12:04:44.007672",
     "exception": false,
     "start_time": "2024-02-17T12:04:43.922000",
     "status": "completed"
    },
    "tags": []
   },
   "outputs": [
    {
     "data": {
      "text/html": [
       "<div>\n",
       "<style scoped>\n",
       "    .dataframe tbody tr th:only-of-type {\n",
       "        vertical-align: middle;\n",
       "    }\n",
       "\n",
       "    .dataframe tbody tr th {\n",
       "        vertical-align: top;\n",
       "    }\n",
       "\n",
       "    .dataframe thead th {\n",
       "        text-align: right;\n",
       "    }\n",
       "</style>\n",
       "<table border=\"1\" class=\"dataframe\">\n",
       "  <thead>\n",
       "    <tr style=\"text-align: right;\">\n",
       "      <th></th>\n",
       "      <th>Age</th>\n",
       "      <th>Height</th>\n",
       "      <th>Weight</th>\n",
       "      <th>FCVC</th>\n",
       "      <th>NCP</th>\n",
       "      <th>CH2O</th>\n",
       "      <th>FAF</th>\n",
       "      <th>TUE</th>\n",
       "    </tr>\n",
       "  </thead>\n",
       "  <tbody>\n",
       "    <tr>\n",
       "      <th>count</th>\n",
       "      <td>34598.000000</td>\n",
       "      <td>34598.000000</td>\n",
       "      <td>34598.000000</td>\n",
       "      <td>34598.000000</td>\n",
       "      <td>34598.000000</td>\n",
       "      <td>34598.000000</td>\n",
       "      <td>34598.000000</td>\n",
       "      <td>34598.000000</td>\n",
       "    </tr>\n",
       "    <tr>\n",
       "      <th>mean</th>\n",
       "      <td>23.886181</td>\n",
       "      <td>1.699721</td>\n",
       "      <td>87.686451</td>\n",
       "      <td>2.444704</td>\n",
       "      <td>2.757043</td>\n",
       "      <td>2.030469</td>\n",
       "      <td>0.978861</td>\n",
       "      <td>0.614467</td>\n",
       "    </tr>\n",
       "    <tr>\n",
       "      <th>std</th>\n",
       "      <td>5.733207</td>\n",
       "      <td>0.087895</td>\n",
       "      <td>26.273493</td>\n",
       "      <td>0.532568</td>\n",
       "      <td>0.707610</td>\n",
       "      <td>0.609566</td>\n",
       "      <td>0.839122</td>\n",
       "      <td>0.604475</td>\n",
       "    </tr>\n",
       "    <tr>\n",
       "      <th>min</th>\n",
       "      <td>14.000000</td>\n",
       "      <td>1.450000</td>\n",
       "      <td>39.000000</td>\n",
       "      <td>1.000000</td>\n",
       "      <td>1.000000</td>\n",
       "      <td>1.000000</td>\n",
       "      <td>0.000000</td>\n",
       "      <td>0.000000</td>\n",
       "    </tr>\n",
       "    <tr>\n",
       "      <th>25%</th>\n",
       "      <td>20.000000</td>\n",
       "      <td>1.631856</td>\n",
       "      <td>66.000000</td>\n",
       "      <td>2.000000</td>\n",
       "      <td>3.000000</td>\n",
       "      <td>1.784710</td>\n",
       "      <td>0.006892</td>\n",
       "      <td>0.000000</td>\n",
       "    </tr>\n",
       "    <tr>\n",
       "      <th>50%</th>\n",
       "      <td>22.851747</td>\n",
       "      <td>1.700000</td>\n",
       "      <td>84.000000</td>\n",
       "      <td>2.392179</td>\n",
       "      <td>3.000000</td>\n",
       "      <td>2.000000</td>\n",
       "      <td>1.000000</td>\n",
       "      <td>0.555591</td>\n",
       "    </tr>\n",
       "    <tr>\n",
       "      <th>75%</th>\n",
       "      <td>26.000000</td>\n",
       "      <td>1.761773</td>\n",
       "      <td>111.539494</td>\n",
       "      <td>3.000000</td>\n",
       "      <td>3.000000</td>\n",
       "      <td>2.550570</td>\n",
       "      <td>1.583832</td>\n",
       "      <td>1.000000</td>\n",
       "    </tr>\n",
       "    <tr>\n",
       "      <th>max</th>\n",
       "      <td>61.000000</td>\n",
       "      <td>1.980000</td>\n",
       "      <td>165.057269</td>\n",
       "      <td>3.000000</td>\n",
       "      <td>4.000000</td>\n",
       "      <td>3.000000</td>\n",
       "      <td>3.000000</td>\n",
       "      <td>2.000000</td>\n",
       "    </tr>\n",
       "  </tbody>\n",
       "</table>\n",
       "</div>"
      ],
      "text/plain": [
       "                Age        Height        Weight          FCVC           NCP  \\\n",
       "count  34598.000000  34598.000000  34598.000000  34598.000000  34598.000000   \n",
       "mean      23.886181      1.699721     87.686451      2.444704      2.757043   \n",
       "std        5.733207      0.087895     26.273493      0.532568      0.707610   \n",
       "min       14.000000      1.450000     39.000000      1.000000      1.000000   \n",
       "25%       20.000000      1.631856     66.000000      2.000000      3.000000   \n",
       "50%       22.851747      1.700000     84.000000      2.392179      3.000000   \n",
       "75%       26.000000      1.761773    111.539494      3.000000      3.000000   \n",
       "max       61.000000      1.980000    165.057269      3.000000      4.000000   \n",
       "\n",
       "               CH2O           FAF           TUE  \n",
       "count  34598.000000  34598.000000  34598.000000  \n",
       "mean       2.030469      0.978861      0.614467  \n",
       "std        0.609566      0.839122      0.604475  \n",
       "min        1.000000      0.000000      0.000000  \n",
       "25%        1.784710      0.006892      0.000000  \n",
       "50%        2.000000      1.000000      0.555591  \n",
       "75%        2.550570      1.583832      1.000000  \n",
       "max        3.000000      3.000000      2.000000  "
      ]
     },
     "execution_count": 6,
     "metadata": {},
     "output_type": "execute_result"
    }
   ],
   "source": [
    "eda_data.drop(columns=['id']).describe()"
   ]
  },
  {
   "cell_type": "markdown",
   "id": "c869ba3e",
   "metadata": {
    "papermill": {
     "duration": 0.006682,
     "end_time": "2024-02-17T12:04:44.021985",
     "exception": false,
     "start_time": "2024-02-17T12:04:44.015303",
     "status": "completed"
    },
    "tags": []
   },
   "source": [
    "These are all relatively centered, albeit with different variances so they will need to be standardized."
   ]
  },
  {
   "cell_type": "markdown",
   "id": "7bef58e0",
   "metadata": {
    "papermill": {
     "duration": 0.00656,
     "end_time": "2024-02-17T12:04:44.035646",
     "exception": false,
     "start_time": "2024-02-17T12:04:44.029086",
     "status": "completed"
    },
    "tags": []
   },
   "source": [
    "## Categorical measures"
   ]
  },
  {
   "cell_type": "code",
   "execution_count": 7,
   "id": "7df50f07",
   "metadata": {
    "execution": {
     "iopub.execute_input": "2024-02-17T12:04:44.051281Z",
     "iopub.status.busy": "2024-02-17T12:04:44.050879Z",
     "iopub.status.idle": "2024-02-17T12:04:44.117094Z",
     "shell.execute_reply": "2024-02-17T12:04:44.115902Z"
    },
    "papermill": {
     "duration": 0.077947,
     "end_time": "2024-02-17T12:04:44.120483",
     "exception": false,
     "start_time": "2024-02-17T12:04:44.042536",
     "status": "completed"
    },
    "tags": []
   },
   "outputs": [
    {
     "name": "stdout",
     "output_type": "stream",
     "text": [
      "Gender\n",
      "Female    17387\n",
      "Male      17211\n",
      "Name: count, dtype: int64\n",
      "------------\n",
      "family_history_with_overweight\n",
      "yes    28398\n",
      "no      6200\n",
      "Name: count, dtype: int64\n",
      "------------\n",
      "FAVC\n",
      "yes    31565\n",
      "no      3033\n",
      "Name: count, dtype: int64\n",
      "------------\n",
      "CAEC\n",
      "Sometimes     29218\n",
      "Frequently     4089\n",
      "Always          837\n",
      "no              454\n",
      "Name: count, dtype: int64\n",
      "------------\n",
      "SMOKE\n",
      "no     34173\n",
      "yes      425\n",
      "Name: count, dtype: int64\n",
      "------------\n",
      "SCC\n",
      "no     33447\n",
      "yes     1151\n",
      "Name: count, dtype: int64\n",
      "------------\n",
      "CALC\n",
      "Sometimes     25045\n",
      "no             8676\n",
      "Frequently      875\n",
      "Always            2\n",
      "Name: count, dtype: int64\n",
      "------------\n",
      "MTRANS\n",
      "Public_Transportation    27798\n",
      "Automobile                5939\n",
      "Walking                    747\n",
      "Motorbike                   57\n",
      "Bike                        57\n",
      "Name: count, dtype: int64\n",
      "------------\n",
      "NObeyesdad\n",
      "Obesity_Type_III       4046\n",
      "Obesity_Type_II        3248\n",
      "Normal_Weight          3082\n",
      "Obesity_Type_I         2910\n",
      "Insufficient_Weight    2523\n",
      "Overweight_Level_II    2522\n",
      "Overweight_Level_I     2427\n",
      "Name: count, dtype: int64\n",
      "------------\n"
     ]
    }
   ],
   "source": [
    "cat_cols = ['Gender', 'family_history_with_overweight', 'FAVC', 'CAEC', 'SMOKE', 'SCC', 'CALC', 'MTRANS', 'NObeyesdad']\n",
    "\n",
    "for col in cat_cols:\n",
    "    print(eda_data[col].value_counts())\n",
    "    print('------------')"
   ]
  },
  {
   "cell_type": "markdown",
   "id": "851f2082",
   "metadata": {
    "papermill": {
     "duration": 0.006787,
     "end_time": "2024-02-17T12:04:44.134718",
     "exception": false,
     "start_time": "2024-02-17T12:04:44.127931",
     "status": "completed"
    },
    "tags": []
   },
   "source": [
    "The targets are largely balanced.\n",
    "\n",
    "Note that while the labels are categorical, there are ordinal: an individual who is more likely to be obese relative to normal weight should also be more likely to be overweight relative to normal weight."
   ]
  },
  {
   "cell_type": "code",
   "execution_count": 8,
   "id": "90c26b6a",
   "metadata": {
    "execution": {
     "iopub.execute_input": "2024-02-17T12:04:44.151075Z",
     "iopub.status.busy": "2024-02-17T12:04:44.150678Z",
     "iopub.status.idle": "2024-02-17T12:04:44.162676Z",
     "shell.execute_reply": "2024-02-17T12:04:44.161529Z"
    },
    "papermill": {
     "duration": 0.023195,
     "end_time": "2024-02-17T12:04:44.164991",
     "exception": false,
     "start_time": "2024-02-17T12:04:44.141796",
     "status": "completed"
    },
    "tags": []
   },
   "outputs": [],
   "source": [
    "target_categories_order = [\n",
    "    'Insufficient_Weight',\n",
    "    'Normal_Weight',\n",
    "    'Overweight_Level_I',\n",
    "    'Overweight_Level_II',\n",
    "    'Obesity_Type_I',\n",
    "    'Obesity_Type_II',\n",
    "    'Obesity_Type_III'\n",
    "]\n",
    "\n",
    "eda_data['target_ord'] = pd.Categorical(eda_data.NObeyesdad, target_categories_order, ordered=True)"
   ]
  },
  {
   "cell_type": "markdown",
   "id": "b889c2c2",
   "metadata": {
    "papermill": {
     "duration": 0.006787,
     "end_time": "2024-02-17T12:04:44.179098",
     "exception": false,
     "start_time": "2024-02-17T12:04:44.172311",
     "status": "completed"
    },
    "tags": []
   },
   "source": [
    "## Binary associations"
   ]
  },
  {
   "cell_type": "markdown",
   "id": "3ff0048a",
   "metadata": {
    "papermill": {
     "duration": 0.006829,
     "end_time": "2024-02-17T12:04:44.194320",
     "exception": false,
     "start_time": "2024-02-17T12:04:44.187491",
     "status": "completed"
    },
    "tags": []
   },
   "source": []
  }
 ],
 "metadata": {
  "kaggle": {
   "accelerator": "none",
   "dataSources": [
    {
     "databundleVersionId": 7609535,
     "sourceId": 68479,
     "sourceType": "competition"
    }
   ],
   "dockerImageVersionId": 30646,
   "isGpuEnabled": false,
   "isInternetEnabled": false,
   "language": "python",
   "sourceType": "notebook"
  },
  "kernelspec": {
   "display_name": "Python 3",
   "language": "python",
   "name": "python3"
  },
  "language_info": {
   "codemirror_mode": {
    "name": "ipython",
    "version": 3
   },
   "file_extension": ".py",
   "mimetype": "text/x-python",
   "name": "python",
   "nbconvert_exporter": "python",
   "pygments_lexer": "ipython3",
   "version": "3.10.13"
  },
  "papermill": {
   "default_parameters": {},
   "duration": 7.057596,
   "end_time": "2024-02-17T12:04:44.823904",
   "environment_variables": {},
   "exception": null,
   "input_path": "__notebook__.ipynb",
   "output_path": "__notebook__.ipynb",
   "parameters": {},
   "start_time": "2024-02-17T12:04:37.766308",
   "version": "2.5.0"
  }
 },
 "nbformat": 4,
 "nbformat_minor": 5
}
